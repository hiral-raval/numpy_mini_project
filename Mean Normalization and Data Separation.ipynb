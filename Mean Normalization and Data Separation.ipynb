{
 "cells": [
  {
   "cell_type": "markdown",
   "metadata": {},
   "source": [
    "# Mean Normalization\n",
    "\n",
    "In machine learning we use large amounts of data to train our models. Some machine learning algorithms may require that the data is *normalized* in order to work correctly. The idea of normalization, also known as *feature scaling*, is to ensure that all the data is on a similar scale, *i.e.* that all the data takes on a similar range of values. For example, we might have a dataset that has values between 0 and 5,000. By normalizing the data we can make the range of values be between 0 and 1.\n",
    "\n",
    "In this lab, you will be performing a different kind of feature scaling known as *mean normalization*. Mean normalization will scale the data, but instead of making the values be between 0 and 1, it will distribute the values evenly in some small interval around zero. For example, if we have a dataset that has values between 0 and 5,000, after mean normalization the range of values will be distributed in some small range around 0, for example between -3 to 3. Because the range of values are distributed evenly around zero, this guarantees that the average (mean) of all elements will be zero. Therefore, when you perform *mean normalization* your data will not only be scaled but it will also have an average of zero. \n",
    "\n",
    "# To Do:\n",
    "\n",
    "You will start by importing NumPy and creating a rank 2 ndarray of random integers between 0 and 5,000 (inclusive) with 1000 rows and 20 columns. This array will simulate a dataset with a wide range of values. Fill in the code below"
   ]
  },
  {
   "cell_type": "code",
   "execution_count": 1,
   "metadata": {},
   "outputs": [
    {
     "name": "stdout",
     "output_type": "stream",
     "text": [
      "X has dimension:  (1000, 20)\n"
     ]
    }
   ],
   "source": [
    "# import NumPy into Python\n",
    "import numpy as np\n",
    "\n",
    "# Create a 1000 x 20 ndarray with random integers in the half-open interval [0, 5001).\n",
    "X = np.random.randint(0,5001,size =(1000,20))\n",
    "\n",
    "# print the shape of X\n",
    "print(\"X has dimension: \",X.shape)\n"
   ]
  },
  {
   "cell_type": "markdown",
   "metadata": {},
   "source": [
    "Now that you created the array we will mean normalize it. We will perform mean normalization using the following equation:\n",
    "\n",
    "$\\mbox{Norm_Col}_i = \\frac{\\mbox{Col}_i - \\mu_i}{\\sigma_i}$\n",
    "\n",
    "where $\\mbox{Col}_i$ is the $i$th column of $X$, $\\mu_i$ is average of the values in the $i$th column of $X$, and $\\sigma_i$ is the standard deviation of the values in the $i$th column of $X$. In other words, mean normalization is performed by subtracting from each column of $X$ the average of its values, and then by dividing by the standard deviation of its values. In the space below, you will first calculate the average and standard deviation of each column of $X$. "
   ]
  },
  {
   "cell_type": "code",
   "execution_count": 2,
   "metadata": {},
   "outputs": [],
   "source": [
    "rows, columns = X.shape\n",
    "# check if rows of p is divisible by 2\n",
    "if rows % 2 != 0:\n",
    "    # duplicate last row to be included in mean\n",
    "    X = np.vstack([X, X[-1]])\n",
    "    # we added a new row\n",
    "    rows += 1\n",
    "mean = X.reshape((rows // 2, 2, columns)).mean(axis=1)"
   ]
  },
  {
   "cell_type": "code",
   "execution_count": 3,
   "metadata": {},
   "outputs": [
    {
     "data": {
      "text/plain": [
       "(500, 20)"
      ]
     },
     "execution_count": 3,
     "metadata": {},
     "output_type": "execute_result"
    }
   ],
   "source": [
    "mean.shape"
   ]
  },
  {
   "cell_type": "code",
   "execution_count": 4,
   "metadata": {},
   "outputs": [],
   "source": [
    "# Average of the values in each column of X\n",
    "\n",
    "ave_cols =((X[:,0].mean()),\n",
    "                   (X[:,1].mean()),\n",
    "                   (X[:,2].mean()),\n",
    "                   (X[:,3].mean()),\n",
    "                   (X[:,4].mean()),\n",
    "                   (X[:,5].mean()),\n",
    "                   (X[:,6].mean()),\n",
    "                   (X[:,7].mean()),\n",
    "                   (X[:,8].mean()),\n",
    "                   (X[:,9].mean()),\n",
    "                   (X[:,10].mean()),\n",
    "                   (X[:,11].mean()),\n",
    "                   (X[:,12].mean()),\n",
    "                   (X[:,13].mean()),\n",
    "                   (X[:,14].mean()),\n",
    "                   (X[:,15].mean()),\n",
    "                   (X[:,16].mean()),\n",
    "                   (X[:,17].mean()),\n",
    "                   (X[:,18].mean()),\n",
    "                   (X[:,19].mean()))\n",
    "\n",
    "# Standard Deviation of the values in each column of X\n",
    "std_cols =(X[:,0].std(),X[:,1].std(),X[:,2].std(),X[:,3].std(),X[:,4].std(),X[:,5].std(),X[:,6].std(),X[:,7].std(),\n",
    "           X[:,8].std(),X[:,9].std(),X[:,10].std(),X[:,11].std(),X[:,12].std(),X[:,13].std(),X[:,14].std(),X[:,15].std(),\n",
    "           X[:,16].std(),X[:,17].std(),X[:,18].std(),X[:,19].std())"
   ]
  },
  {
   "cell_type": "code",
   "execution_count": 5,
   "metadata": {},
   "outputs": [
    {
     "data": {
      "text/plain": [
       "(2495.279,\n",
       " 2495.4760000000001,\n",
       " 2418.2930000000001,\n",
       " 2537.0650000000001,\n",
       " 2520.3560000000002,\n",
       " 2493.0300000000002,\n",
       " 2529.5770000000002,\n",
       " 2474.2249999999999,\n",
       " 2486.232,\n",
       " 2479.9989999999998,\n",
       " 2461.48,\n",
       " 2512.2559999999999,\n",
       " 2442.951,\n",
       " 2479.6120000000001,\n",
       " 2534.5549999999998,\n",
       " 2498.73,\n",
       " 2495.2130000000002,\n",
       " 2445.152,\n",
       " 2437.0149999999999,\n",
       " 2479.3580000000002)"
      ]
     },
     "execution_count": 5,
     "metadata": {},
     "output_type": "execute_result"
    }
   ],
   "source": [
    "ave_cols"
   ]
  },
  {
   "cell_type": "code",
   "execution_count": 6,
   "metadata": {},
   "outputs": [],
   "source": [
    "b = np.asarray(ave_cols)"
   ]
  },
  {
   "cell_type": "code",
   "execution_count": 7,
   "metadata": {},
   "outputs": [
    {
     "data": {
      "text/plain": [
       "(20,)"
      ]
     },
     "execution_count": 7,
     "metadata": {},
     "output_type": "execute_result"
    }
   ],
   "source": [
    "b.shape"
   ]
  },
  {
   "cell_type": "code",
   "execution_count": 10,
   "metadata": {},
   "outputs": [
    {
     "data": {
      "text/plain": [
       "(1438.6344240198757,\n",
       " 1414.8318747031394,\n",
       " 1418.9597165021987,\n",
       " 1417.0326804572999,\n",
       " 1454.6970239713148,\n",
       " 1451.2638536930492,\n",
       " 1415.5008921848125,\n",
       " 1455.0707207002001,\n",
       " 1406.0905558714915,\n",
       " 1425.7987937906946,\n",
       " 1455.850786242876,\n",
       " 1437.4518240275047,\n",
       " 1433.4187300126227,\n",
       " 1419.436617957984,\n",
       " 1442.1213395203608,\n",
       " 1435.7176541980668,\n",
       " 1451.6157785306,\n",
       " 1449.8751986895286,\n",
       " 1447.1912597289966,\n",
       " 1465.5593927289335)"
      ]
     },
     "execution_count": 10,
     "metadata": {},
     "output_type": "execute_result"
    }
   ],
   "source": [
    "std_cols"
   ]
  },
  {
   "cell_type": "code",
   "execution_count": 8,
   "metadata": {},
   "outputs": [],
   "source": [
    "c = np.asarray(std_cols)"
   ]
  },
  {
   "cell_type": "code",
   "execution_count": 9,
   "metadata": {},
   "outputs": [
    {
     "data": {
      "text/plain": [
       "array([ 1433.98160907,  1418.62364404,  1411.70927784,  1473.63829917,\n",
       "        1415.01209651,  1447.89626738,  1429.57649186,  1470.88297372,\n",
       "        1438.57981919,  1415.91756646,  1415.08854267,  1441.42421808,\n",
       "        1418.4841672 ,  1433.57402999,  1427.81141296,  1466.90705401,\n",
       "        1437.09909806,  1423.67576326,  1431.94520732,  1405.18605524])"
      ]
     },
     "execution_count": 9,
     "metadata": {},
     "output_type": "execute_result"
    }
   ],
   "source": [
    "c"
   ]
  },
  {
   "cell_type": "code",
   "execution_count": 10,
   "metadata": {},
   "outputs": [
    {
     "name": "stdout",
     "output_type": "stream",
     "text": [
      "b has the dimension (20,)\n",
      "c has dimention: (20,)\n"
     ]
    }
   ],
   "source": [
    "# Print the shape of ave_cols\n",
    "print(\"b has the dimension\",b.shape)\n",
    "\n",
    "\n",
    "# Print the shape of std_cols\n",
    "print(\"c has dimention:\",c.shape)\n"
   ]
  },
  {
   "cell_type": "markdown",
   "metadata": {},
   "source": [
    "If you have done the above calculations correctly, then `ave_cols` and `std_cols`, should both be vectors with shape `(20,)` since $X$ has 20 columns. You can verify this by filling the code below:"
   ]
  },
  {
   "cell_type": "markdown",
   "metadata": {},
   "source": [
    "You can now take advantage of Broadcasting to calculate the mean normalized version of $X$ in just one line of code using the equation above. Fill in the code below"
   ]
  },
  {
   "cell_type": "code",
   "execution_count": 11,
   "metadata": {},
   "outputs": [],
   "source": [
    "# Mean normalize X\n",
    "# e = []\n",
    "# for x in range(0,20):\n",
    "#     d = 0\n",
    "#     d = (X[:x]-b[x])/c[x]\n",
    "#     e.append(d)\n",
    "\n",
    "X_norm =(((X[:,0]-b[0])/c[0]),((X[:,1]-b[1])/c[1]),((X[:,2]-b[2])/c[2]),\n",
    "        ((X[:,3]-b[3])/c[3]),((X[:,4]-b[4])/c[4]),((X[:,5]-b[5])/c[5]),\n",
    "        ((X[:,6]-b[6])/c[6]),((X[:,7]-b[7])/c[7]),((X[:,8]-b[8])/c[8]),\n",
    "        ((X[:,9]-b[9])/c[9]),((X[:,10]-b[10])/c[10]),((X[:,11]-b[11])/c[11]),\n",
    "        ((X[:,12]-b[12])/c[12]),((X[:,13]-b[13])/c[13]),((X[:,14]-b[14])/c[14]),\n",
    "        ((X[:,15]-b[15])/c[15]),((X[:,16]-b[16])/c[16]),((X[:,17]-b[17])/c[17]),\n",
    "        ((X[:,18]-b[18])/c[18]),((X[:,19]-b[19])/c[19]))\n",
    "               "
   ]
  },
  {
   "cell_type": "code",
   "execution_count": 12,
   "metadata": {},
   "outputs": [
    {
     "data": {
      "text/plain": [
       "(1000,)"
      ]
     },
     "execution_count": 12,
     "metadata": {},
     "output_type": "execute_result"
    }
   ],
   "source": [
    "X[:,0].shape"
   ]
  },
  {
   "cell_type": "code",
   "execution_count": 13,
   "metadata": {},
   "outputs": [],
   "source": [
    "g = np.asarray(X_norm)"
   ]
  },
  {
   "cell_type": "code",
   "execution_count": 17,
   "metadata": {},
   "outputs": [
    {
     "data": {
      "text/plain": [
       "(20, 1000)"
      ]
     },
     "execution_count": 17,
     "metadata": {},
     "output_type": "execute_result"
    }
   ],
   "source": [
    "g.shape"
   ]
  },
  {
   "cell_type": "markdown",
   "metadata": {},
   "source": [
    "If you have performed the mean normalization correctly, then the average of all the elements in $X_{\\tiny{\\mbox{norm}}}$ should be close to zero, and they should be evenly distributed in some small interval around zero. You can verify this by filing the code below:"
   ]
  },
  {
   "cell_type": "code",
   "execution_count": 14,
   "metadata": {},
   "outputs": [
    {
     "name": "stdout",
     "output_type": "stream",
     "text": [
      "mean : -2.48689957516e-17\n",
      "avg value of min value is: -1.56513668033\n",
      "avg of max value is: 1.58358631191\n"
     ]
    }
   ],
   "source": [
    "# Print the average of all the values of X_norm\n",
    "print( \"mean :\",g.mean())\n",
    "\n",
    "\n",
    "# Print the average of the minimum value in each column of X_norm\n",
    "f= (g.min(axis = 0))\n",
    "#f\n",
    "print(\"avg value of min value is:\",f.mean())\n",
    "\n",
    "\n",
    "# Print the average of the maximum value in each column of X_norm\n",
    "h=(g.max(axis = 0))\n",
    "print(\"avg of max value is:\",h.mean())"
   ]
  },
  {
   "cell_type": "markdown",
   "metadata": {},
   "source": [
    "You should note that since $X$ was created using random integers, the above values will vary. \n",
    "\n",
    "# Data Separation\n",
    "\n",
    "After the data has been mean normalized, it is customary in machine learnig to split our dataset into three sets:\n",
    "\n",
    "1. A Training Set\n",
    "2. A Cross Validation Set\n",
    "3. A Test Set\n",
    "\n",
    "The dataset is usually divided such that the Training Set contains 60% of the data, the Cross Validation Set contains 20% of the data, and the Test Set contains 20% of the data. \n",
    "\n",
    "In this part of the lab you will separate `X_norm` into a Training Set, Cross Validation Set, and a Test Set. Each data set will contain rows of `X_norm` chosen at random, making sure that we don't pick the same row twice. This will guarantee that all the rows of `X_norm` are chosen and randomly distributed among the three new sets.\n",
    "\n",
    "You will start by creating a rank 1 ndarray that contains a random permutation of the row indices of `X_norm`. You can do this by using the `np.random.permutation()` function. The `np.random.permutation(N)` function creates a random permutation of integers from 0 to `N - 1`. Let's see an example:"
   ]
  },
  {
   "cell_type": "code",
   "execution_count": 15,
   "metadata": {},
   "outputs": [
    {
     "data": {
      "text/plain": [
       "array([1, 2, 4, 0, 3])"
      ]
     },
     "execution_count": 15,
     "metadata": {},
     "output_type": "execute_result"
    }
   ],
   "source": [
    "# We create a random permutation of integers 0 to 4\n",
    "np.random.permutation(5)"
   ]
  },
  {
   "cell_type": "markdown",
   "metadata": {},
   "source": [
    "# To Do\n",
    "\n",
    "In the space below create a rank 1 ndarray that contains a random permutation of the row indices of `X_norm`. You can do this in one line of code by extracting the number of rows of `X_norm` using the `shape` attribute and then passing it to the  `np.random.permutation()` function. Remember the `shape` attribute returns a tuple with two numbers in the form `(rows,columns)`."
   ]
  },
  {
   "cell_type": "code",
   "execution_count": 25,
   "metadata": {},
   "outputs": [],
   "source": [
    "# Create a rank 1 ndarray that contains a random permutation of the row indices of `X_norm`\n",
    "row_indices =np.random.permutation(1000)"
   ]
  },
  {
   "cell_type": "markdown",
   "metadata": {},
   "source": [
    "Now you can create the three datasets using the `row_indices` ndarray to select the rows that will go into each dataset. Rememeber that the Training Set contains 60% of the data, the Cross Validation Set contains 20% of the data, and the Test Set contains 20% of the data. Each set requires just one line of code to create. Fill in the code below"
   ]
  },
  {
   "cell_type": "code",
   "execution_count": 26,
   "metadata": {},
   "outputs": [
    {
     "data": {
      "text/plain": [
       "array([795, 417, 891, 128, 974, 109, 620, 276, 443, 750, 544, 667, 924,\n",
       "       242, 776, 991, 457, 289, 710, 549, 202, 808, 875, 642,  63,  75,\n",
       "       876, 711,  97, 937, 311, 112, 778, 913, 715, 405, 252, 725, 678,\n",
       "       921,   3, 532, 775, 948,  32, 982,  37, 108, 393, 149,  49, 593,\n",
       "       425, 350, 210, 607, 409, 790, 724, 111,  25, 362, 397, 199, 932,\n",
       "       998, 829, 450, 550, 449, 904, 832,  92, 319, 665, 107, 612, 917,\n",
       "       953, 370, 687, 434, 658, 475, 351, 192, 374, 599, 757, 674, 404,\n",
       "       458, 198,  53, 718, 869,  26, 543, 895, 825,  11, 213, 580, 748,\n",
       "         5, 151,  47,   9, 915, 930, 577, 164, 844, 885, 561, 375, 944,\n",
       "       950, 221, 633, 927, 746, 613, 815,  84, 444,  59,  88, 152, 978,\n",
       "       664, 877, 454, 871,  62, 720, 131, 157, 685, 933, 805, 421, 478,\n",
       "       205, 980, 367, 591, 649,  67, 236, 176, 992, 925, 669, 975, 535,\n",
       "       253, 624, 552, 177,  41, 603, 589,  44, 890, 568, 787, 758, 373,\n",
       "       647, 171, 154, 339,  36,  29, 566, 274, 246, 479, 833, 186, 993,\n",
       "       845, 536, 391, 941,  43, 316, 723, 433, 986, 283,  35, 122, 886,\n",
       "       378, 512, 117, 863, 866, 583, 360, 102, 581, 672, 960, 222, 353,\n",
       "       773, 989, 946,  24, 238, 850, 837, 514, 120, 206, 262, 749, 480,\n",
       "       760,  95, 141, 962, 463, 305, 377,  19, 961,  98,  71, 683, 423,\n",
       "       753, 474,  33, 325, 155, 623, 839, 136, 310,  21, 376, 313, 957,\n",
       "       324, 327, 185, 988, 922, 355, 809, 251, 406, 719, 266, 742, 197,\n",
       "        55, 729, 999, 264, 929, 328, 766, 646, 529, 429, 132, 473, 354,\n",
       "       884, 596, 656, 818, 178, 604, 496, 652, 495, 807,  81, 676, 317,\n",
       "       919, 290, 448, 138, 920, 906, 731, 562, 255, 400, 897, 137, 727,\n",
       "       784,  20, 156, 908, 538, 635,  39, 516, 641, 759, 637, 133, 737,\n",
       "       602, 491, 689, 611, 422, 414, 843, 140, 408, 576, 135, 874, 174,\n",
       "       469, 439, 648, 814,  60, 506, 208, 828, 938, 525, 966, 740, 756,\n",
       "       446, 597, 343, 995, 159, 830, 722, 708, 499, 677, 968,  46, 500,\n",
       "       158, 600, 106, 848, 295, 509, 931,  83, 308, 679, 827, 847,  70,\n",
       "       730, 771, 263, 963, 781, 462, 622, 200,  91, 466,  99, 954, 169,\n",
       "       680,   7, 578, 226, 964,  10, 692, 923, 800, 892, 172, 407, 701,\n",
       "       207, 896, 673, 348, 910, 435, 858, 804, 806, 233, 967,  87, 909,\n",
       "       520, 528, 248, 621, 697, 625, 810, 272, 820, 260, 323, 219, 261,\n",
       "       410, 873, 928, 531, 113, 977, 284, 114, 402, 386, 883, 413, 100,\n",
       "       618,   4, 793, 129, 987,   2, 427, 861, 889, 870, 115, 389,  80,\n",
       "       540, 268, 447, 736, 945, 519, 739, 916, 859, 864, 191, 275, 728,\n",
       "        38, 935, 163, 379, 282, 823, 744, 170, 340, 582, 366, 609, 472,\n",
       "       682, 947,  14, 557, 385, 865, 134, 735, 301, 752, 755, 416, 101,\n",
       "       119,  85, 182, 743, 654, 662, 390, 196, 352,  13, 451, 852, 834,\n",
       "       302, 165, 767, 332, 394, 761, 666, 148, 826, 273, 461, 545, 307,\n",
       "       363, 300, 124, 846,  82, 293, 369, 179, 979, 703, 629,  15, 668,\n",
       "        73, 315, 764, 803, 539, 614, 856, 854, 241, 842, 721, 951, 215,\n",
       "       887, 551, 428, 257, 232, 467, 841, 430, 294, 490, 575, 541, 949,\n",
       "       320,   6, 227, 259, 511, 926, 663, 681, 791, 440, 572, 277, 894,\n",
       "       105, 330,  93, 126,  52,  51,  30, 484, 857, 431, 860, 636, 476,\n",
       "       958, 508, 523, 694, 569, 912, 505, 831, 598, 849, 194, 836, 754,\n",
       "       634, 453, 898, 918, 670, 559, 341, 587, 558, 349, 118, 653, 567,\n",
       "       955, 344, 900, 372, 595, 258, 973,  40, 526, 785, 240, 851, 779,\n",
       "       990, 615, 688,  16,  64, 147, 907, 584,  17, 455, 502, 690, 498,\n",
       "       103, 537, 879, 936, 738, 905, 533, 563, 331, 143, 418, 419, 399,\n",
       "       888, 342, 817, 497, 504, 218, 702, 381, 204, 127, 942, 365, 868,\n",
       "       280, 387, 774, 517, 235, 524, 619, 616, 380,  74, 211, 116, 981,\n",
       "       110, 976, 225, 347, 554, 671, 732, 175, 997, 971, 644, 384,  77,\n",
       "       326, 741,  23, 768, 657, 881, 789, 969, 247, 388,  42, 224, 184,\n",
       "       840, 970, 298,  72, 396, 212, 733, 585, 338, 745, 452, 411, 167,\n",
       "       403, 594,  50, 515, 617,  96, 630, 780, 250, 368, 782,  22, 565,\n",
       "       231, 608, 288, 632, 436, 601, 816,  89, 513, 530, 899, 972,  68,\n",
       "        45, 691, 693,  79, 705, 714, 460, 438, 459, 501, 542, 579, 838,\n",
       "       142,  76, 570,  66, 286, 798, 285, 153, 547, 209, 189, 395, 382,\n",
       "       183, 244, 574, 770, 802,   8, 862, 699, 229,  56, 321, 398, 346,\n",
       "       527,  48, 626, 214, 359, 592, 279, 426, 726, 573, 631,  57, 507,\n",
       "       161, 144, 296, 934, 799, 645, 486, 299, 488, 911, 521, 777, 590,\n",
       "       489, 661, 139, 356, 269, 123, 245, 150, 984,  90, 684, 180, 564,\n",
       "       166, 203, 939, 751,   0, 333,   1, 994, 291, 125, 812, 783, 650,\n",
       "       254, 470,  31, 586, 747, 312, 903, 959, 940, 788, 190, 401, 819,\n",
       "        12, 188, 546, 335, 965, 420, 160, 606, 835, 813, 943, 638, 880,\n",
       "       716, 706, 651, 228, 704, 640, 271, 424, 571, 492, 659, 553, 364,\n",
       "       249,  54, 357, 772, 336, 358, 605, 560, 187, 801,  69, 297, 956,\n",
       "       383, 201, 270, 610, 855, 162, 983, 437, 441, 304, 442, 675, 322,\n",
       "       794, 628, 696, 811, 121, 265,  34, 481, 713, 237, 556, 445, 303,\n",
       "       243, 503, 695, 765, 996, 522, 700, 412,  28,  61, 985, 130, 824,\n",
       "       518, 627, 872,  78, 477, 914, 456, 465, 239, 792, 267, 337, 709,\n",
       "       797, 534,  27, 639, 168, 256,  86, 173, 181, 707, 220, 952,  58,\n",
       "       345, 217, 371, 660, 432, 223, 485, 104, 643, 292, 786, 769, 334,\n",
       "       796, 698, 468, 145, 893, 487, 195, 882, 822, 712, 193, 902, 853,\n",
       "        65, 146, 306, 494, 329, 548, 555, 717, 821, 686, 309, 415,  18,\n",
       "       216, 314, 471, 287, 483, 734, 762, 230,  94, 901, 588, 392, 318,\n",
       "       655, 482, 878, 493, 464, 361, 281, 278, 763, 867, 234, 510])"
      ]
     },
     "execution_count": 26,
     "metadata": {},
     "output_type": "execute_result"
    }
   ],
   "source": [
    "row_indices"
   ]
  },
  {
   "cell_type": "code",
   "execution_count": 27,
   "metadata": {},
   "outputs": [],
   "source": [
    "# Make any necessary calculations.\n",
    "# You can save your calculations into variables to use later.\n",
    "from sklearn import cross_validation\n",
    "\n",
    "train, validate, test = np.split(row_indices, [int(.6*len(row_indices)), int(.8*len(row_indices))])\n",
    "\n",
    "# # Create a Training Setfrom sklearn import cross_validation\n",
    "# X_train =cross_validation.train_test_split(g, train_size=0.6, test_size=0.4)\n",
    "\n",
    "# # Create a Cross Validation Set\n",
    "# X_crossVal =cross_validation.train_test_split(g, train_size=0.5, test_size=0.5)\n",
    "\n",
    "# # Create a Test Set\n",
    "# X_test =cross_validation.train_test_split(g, train_size=0.5, test_size=0.5)"
   ]
  },
  {
   "cell_type": "code",
   "execution_count": 28,
   "metadata": {},
   "outputs": [],
   "source": [
    "train_g = g[:,train]\n",
    "test_g = g[:,test]\n",
    "validate_g = g[:,validate]"
   ]
  },
  {
   "cell_type": "code",
   "execution_count": 29,
   "metadata": {},
   "outputs": [
    {
     "data": {
      "text/plain": [
       "(20, 600)"
      ]
     },
     "execution_count": 29,
     "metadata": {},
     "output_type": "execute_result"
    }
   ],
   "source": [
    "train_g.shape"
   ]
  },
  {
   "cell_type": "markdown",
   "metadata": {},
   "source": [
    "If you performed the above calculations correctly, then `X_tain` should have 600 rows and 20 columns, `X_crossVal` should have 200 rows and 20 columns, and `X_test` should have 200 rows and 20 columns. You can verify this by filling the code below:"
   ]
  },
  {
   "cell_type": "code",
   "execution_count": 30,
   "metadata": {},
   "outputs": [
    {
     "name": "stdout",
     "output_type": "stream",
     "text": [
      "training shape(Tuple of array dimensions) =  (20, 600)\n",
      "X_crossVal shape(Tuple of array dimensions) =  (20, 200)\n",
      "X_test shape(Tuple of array dimensions) =  (20, 200)\n"
     ]
    }
   ],
   "source": [
    "# Print the shape of X_train\n",
    "\n",
    "print ( 'training shape(Tuple of array dimensions) = ', train_g.shape)\n",
    "# Print the shape of X_crossVal\n",
    "print ( 'X_crossVal shape(Tuple of array dimensions) = ', validate_g.shape)\n",
    "\n",
    "# Print the shape of X_test\n",
    "print ( 'X_test shape(Tuple of array dimensions) = ', test_g.shape)"
   ]
  },
  {
   "cell_type": "code",
   "execution_count": null,
   "metadata": {},
   "outputs": [],
   "source": []
  }
 ],
 "metadata": {
  "kernelspec": {
   "display_name": "Python 3",
   "language": "python",
   "name": "python3"
  },
  "language_info": {
   "codemirror_mode": {
    "name": "ipython",
    "version": 3
   },
   "file_extension": ".py",
   "mimetype": "text/x-python",
   "name": "python",
   "nbconvert_exporter": "python",
   "pygments_lexer": "ipython3",
   "version": "3.6.3"
  }
 },
 "nbformat": 4,
 "nbformat_minor": 2
}
